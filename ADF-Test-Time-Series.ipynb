{
 "cells": [
  {
   "cell_type": "markdown",
   "id": "398eb7f7",
   "metadata": {},
   "source": [
    "Learn more about ADF : \n",
    "https://www.analyticsvidhya.com/blog/2021/06/statistical-tests-to-check-stationarity-in-time-series-part-1/#When_to_Choose_ADF_or_KPSS_Test?"
   ]
  },
  {
   "cell_type": "markdown",
   "id": "7b6b259e",
   "metadata": {},
   "source": [
    "### Augmented Dickey-Fuller test (ADF Test) \n",
    "It is used to find of a Time Series Data is Stationary or not"
   ]
  },
  {
   "cell_type": "code",
   "execution_count": 1,
   "id": "328a3b2a",
   "metadata": {},
   "outputs": [],
   "source": [
    "import pandas as pd\n",
    "import numpy as np\n",
    "import matplotlib.pyplot as plt\n",
    "%matplotlib inline\n",
    "import statsmodels.api as sm\n",
    "from statsmodels.tsa.stattools import adfuller"
   ]
  },
  {
   "cell_type": "code",
   "execution_count": 2,
   "id": "86c71fb6",
   "metadata": {},
   "outputs": [],
   "source": [
    "df = pd.read_excel('Series_2.xlsx')\n",
    "#df = pd.read_excel('Series_1.xlsx') -> this data is stationary"
   ]
  },
  {
   "cell_type": "code",
   "execution_count": 3,
   "id": "8e14fceb",
   "metadata": {},
   "outputs": [
    {
     "data": {
      "text/html": [
       "<div>\n",
       "<style scoped>\n",
       "    .dataframe tbody tr th:only-of-type {\n",
       "        vertical-align: middle;\n",
       "    }\n",
       "\n",
       "    .dataframe tbody tr th {\n",
       "        vertical-align: top;\n",
       "    }\n",
       "\n",
       "    .dataframe thead th {\n",
       "        text-align: right;\n",
       "    }\n",
       "</style>\n",
       "<table border=\"1\" class=\"dataframe\">\n",
       "  <thead>\n",
       "    <tr style=\"text-align: right;\">\n",
       "      <th></th>\n",
       "      <th>Time</th>\n",
       "      <th>Value</th>\n",
       "    </tr>\n",
       "  </thead>\n",
       "  <tbody>\n",
       "    <tr>\n",
       "      <th>4</th>\n",
       "      <td>5</td>\n",
       "      <td>94</td>\n",
       "    </tr>\n",
       "    <tr>\n",
       "      <th>10</th>\n",
       "      <td>11</td>\n",
       "      <td>15</td>\n",
       "    </tr>\n",
       "    <tr>\n",
       "      <th>19</th>\n",
       "      <td>20</td>\n",
       "      <td>-56</td>\n",
       "    </tr>\n",
       "    <tr>\n",
       "      <th>15</th>\n",
       "      <td>16</td>\n",
       "      <td>42</td>\n",
       "    </tr>\n",
       "    <tr>\n",
       "      <th>1</th>\n",
       "      <td>2</td>\n",
       "      <td>120</td>\n",
       "    </tr>\n",
       "  </tbody>\n",
       "</table>\n",
       "</div>"
      ],
      "text/plain": [
       "    Time  Value\n",
       "4      5     94\n",
       "10    11     15\n",
       "19    20    -56\n",
       "15    16     42\n",
       "1      2    120"
      ]
     },
     "execution_count": 3,
     "metadata": {},
     "output_type": "execute_result"
    }
   ],
   "source": [
    "df.sample(5)"
   ]
  },
  {
   "cell_type": "code",
   "execution_count": 4,
   "id": "2371f19b",
   "metadata": {},
   "outputs": [
    {
     "data": {
      "text/plain": [
       "[<matplotlib.lines.Line2D at 0x2463fcb6170>]"
      ]
     },
     "execution_count": 4,
     "metadata": {},
     "output_type": "execute_result"
    },
    {
     "data": {
      "image/png": "[encoded data removed]",
      "text/plain": [
       "<Figure size 640x480 with 1 Axes>"
      ]
     },
     "metadata": {},
     "output_type": "display_data"
    }
   ],
   "source": [
    "plt.plot(df['Value'])"
   ]
  },
  {
   "cell_type": "markdown",
   "id": "d1dd7f13",
   "metadata": {},
   "source": [
    "The mean of the time series decreases with increase in time, so evidently this time series is not stationary in nature. We say this using observing visualization but we can be wrong. So we will be using ADF Test."
   ]
  },
  {
   "cell_type": "markdown",
   "id": "4451ff35",
   "metadata": {},
   "source": [
    "#### For any test, you have the NULL Hypothesis and Alternate Hypothesis\n",
    "\n",
    "1. NULL Hypothesis in ADF Test : Time Series is Non-Stationary\n",
    "2. Alternate Hypothesis in ADF Test : Time Series is Stationary\n",
    "\n",
    "If ADF statistic(T-statistic) < Critical Value -> Reject the NULL Hypothesis\n",
    "\n",
    "If ADF statistic(T-statistic) > Critical Value -> Failed to Reject the NULL Hypothesis"
   ]
  },
  {
   "cell_type": "code",
   "execution_count": 5,
   "id": "5efe4dba",
   "metadata": {},
   "outputs": [
    {
     "data": {
      "text/plain": [
       "(-1.743414536149295,\n",
       " 0.40889412299525735,\n",
       " 0,\n",
       " 25,\n",
       " {'1%': -3.7238633119999998, '5%': -2.98648896, '10%': -2.6328004},\n",
       " 196.27638659298424)"
      ]
     },
     "execution_count": 5,
     "metadata": {},
     "output_type": "execute_result"
    }
   ],
   "source": [
    "X = df['Value'].values\n",
    "result = adfuller(X)\n",
    "result"
   ]
  },
  {
   "cell_type": "code",
   "execution_count": 6,
   "id": "f6125def",
   "metadata": {},
   "outputs": [
    {
     "name": "stdout",
     "output_type": "stream",
     "text": [
      "ADF Statistic: -1.743415\n",
      "p-value: 0.408894\n",
      "Critical Values:\n",
      "\t1% : -3.724\n",
      "\t5% : -2.986\n",
      "\t10% : -2.633\n",
      "Failed to Reject NULL Hypothesis - Time Series is Non-Stationary\n"
     ]
    }
   ],
   "source": [
    "print(f'ADF Statistic: {round(result[0],6)}')\n",
    "print(f'p-value: {round(result[1],6)}')\n",
    "print('Critical Values:')\n",
    "for key, value in result[4].items():\n",
    "    print(f'\\t{key} : {round(value,3)}')\n",
    "\n",
    "if result[0] < result[4][\"5%\"]:\n",
    "    print(\"Reject NULL Hypothesis - Time Series is Stationary\")\n",
    "else:\n",
    "    print(\"Failed to Reject NULL Hypothesis - Time Series is Non-Stationary\")"
   ]
  },
  {
   "cell_type": "markdown",
   "id": "99f017d5",
   "metadata": {},
   "source": [
    "As ADF Statistic(-1.743415) > Critical Value(-2.986), Hence the Time Series in Non-Stationary"
   ]
  },
  {
   "cell_type": "markdown",
   "id": "a652a0eb",
   "metadata": {},
   "source": [
    "## Now implementing the ADF TEST from Scratch"
   ]
  },
  {
   "cell_type": "code",
   "execution_count": 7,
   "id": "1778b28a",
   "metadata": {},
   "outputs": [],
   "source": [
    "\"\"\"\n",
    "Step 1 : The 1st step to find the ADF Statistic is to \n",
    "find out the difference between two consecutive rows \n",
    "of your time series\n",
    "\"\"\"\n",
    "df['Diff_Value'] = df['Value'].diff()"
   ]
  },
  {
   "cell_type": "code",
   "execution_count": 8,
   "id": "d8c35595",
   "metadata": {},
   "outputs": [],
   "source": [
    "\"\"\"\n",
    "Now your 'Diff_value' becomes your target variable. So \n",
    "essentially we are trying to fit a linear regression model\n",
    "with the target variable(Y) being 'Diff_values'(Difference \n",
    "between two consecutive values in time series) and the X \n",
    "(independent feature) should be the time series itself.\n",
    "\"\"\"\n",
    "diff_values = df['Diff_Value'].values\n",
    "Y = diff_values[~np.isnan(diff_values)] #removing the nan values from the target variable"
   ]
  },
  {
   "cell_type": "code",
   "execution_count": 9,
   "id": "b65c50e5",
   "metadata": {},
   "outputs": [
    {
     "data": {
      "text/plain": [
       "array([  70., -145.,   56.,   63.,  -33.,   26., -152.,   95.,   35.,\n",
       "        -50.,   -7.,  -26.,  -11.,  -68.,  139.,  216., -252.,   39.,\n",
       "       -101.,  -45.,  -42., -143.,   89.,  -39.,  -20.])"
      ]
     },
     "execution_count": 9,
     "metadata": {},
     "output_type": "execute_result"
    }
   ],
   "source": [
    "Y"
   ]
  },
  {
   "cell_type": "code",
   "execution_count": 10,
   "id": "3d00f009",
   "metadata": {},
   "outputs": [],
   "source": [
    "\"\"\"\n",
    "We need to match the X and Y row count so we will drop \n",
    "the last row in X\n",
    "We do this because remeber we took difference of \n",
    "2 consecutive rows to make Y so their will be a row less\n",
    "\"\"\"\n",
    "ts_values_orig = df['Value'].values\n",
    "ts_values= ts_values_orig[:-1]"
   ]
  },
  {
   "cell_type": "code",
   "execution_count": 11,
   "id": "351eee09",
   "metadata": {},
   "outputs": [],
   "source": [
    "\"\"\"\n",
    "The add_constant() function in statsmodels.api adds a constant column of 1s to \n",
    "the left-hand side of the input array or DataFrame. This creates a new variable \n",
    "that represents the intercept term in a linear regression model.\n",
    "\"\"\"\n",
    "X = sm.add_constant(ts_values)"
   ]
  },
  {
   "cell_type": "code",
   "execution_count": 12,
   "id": "cbaa9ada",
   "metadata": {},
   "outputs": [
    {
     "data": {
      "text/plain": [
       "array([[  1.,  50.],\n",
       "       [  1., 120.],\n",
       "       [  1., -25.],\n",
       "       [  1.,  31.],\n",
       "       [  1.,  94.]])"
      ]
     },
     "execution_count": 12,
     "metadata": {},
     "output_type": "execute_result"
    }
   ],
   "source": [
    "X[:5]"
   ]
  },
  {
   "cell_type": "code",
   "execution_count": 13,
   "id": "195c6da6",
   "metadata": {},
   "outputs": [
    {
     "data": {
      "text/plain": [
       "array([  50,  120,  -25,   31,   94,   61,   87,  -65,   30,   65,   15,\n",
       "          8,  -18,  -29,  -97,   42,  258,    6,   45,  -56, -101, -143,\n",
       "       -286, -197, -236], dtype=int64)"
      ]
     },
     "execution_count": 13,
     "metadata": {},
     "output_type": "execute_result"
    }
   ],
   "source": [
    "ts_values"
   ]
  },
  {
   "cell_type": "code",
   "execution_count": 14,
   "id": "233a4f58",
   "metadata": {},
   "outputs": [],
   "source": [
    "# fit a linear regression model using OLS\n",
    "model = sm.OLS(Y,X)\n",
    "results = model.fit()"
   ]
  },
  {
   "cell_type": "code",
   "execution_count": 15,
   "id": "985ddb4d",
   "metadata": {},
   "outputs": [
    {
     "name": "stdout",
     "output_type": "stream",
     "text": [
      "                            OLS Regression Results                            \n",
      "==============================================================================\n",
      "Dep. Variable:                      y   R-squared:                       0.117\n",
      "Model:                            OLS   Adj. R-squared:                  0.078\n",
      "Method:                 Least Squares   F-statistic:                     3.039\n",
      "Date:                Fri, 28 Apr 2023   Prob (F-statistic):             0.0946\n",
      "Time:                        15:32:56   Log-Likelihood:                -148.93\n",
      "No. Observations:                  25   AIC:                             301.9\n",
      "Df Residuals:                      23   BIC:                             304.3\n",
      "Df Model:                           1                                         \n",
      "Covariance Type:            nonrobust                                         \n",
      "==============================================================================\n",
      "                 coef    std err          t      P>|t|      [0.025      0.975]\n",
      "------------------------------------------------------------------------------\n",
      "const        -16.2489     19.640     -0.827      0.417     -56.877      24.379\n",
      "x1            -0.2939      0.169     -1.743      0.095      -0.643       0.055\n",
      "==============================================================================\n",
      "Omnibus:                        1.194   Durbin-Watson:                   2.238\n",
      "Prob(Omnibus):                  0.550   Jarque-Bera (JB):                0.535\n",
      "Skew:                           0.355   Prob(JB):                        0.765\n",
      "Kurtosis:                       3.104   Cond. No.                         117.\n",
      "==============================================================================\n",
      "\n",
      "Notes:\n",
      "[1] Standard Errors assume that the covariance matrix of the errors is correctly specified.\n"
     ]
    }
   ],
   "source": [
    "print(results.summary())"
   ]
  },
  {
   "cell_type": "code",
   "execution_count": 17,
   "id": "8234d89a",
   "metadata": {},
   "outputs": [
    {
     "data": {
      "text/plain": [
       "-1.7434145361492948"
      ]
     },
     "execution_count": 17,
     "metadata": {},
     "output_type": "execute_result"
    }
   ],
   "source": [
    "results.tvalues[1] #T-statistic and ADF statistic is same(their values same too)"
   ]
  },
  {
   "cell_type": "code",
   "execution_count": null,
   "id": "34eec079",
   "metadata": {},
   "outputs": [],
   "source": []
  },
  {
   "cell_type": "code",
   "execution_count": null,
   "id": "ff8579ed",
   "metadata": {},
   "outputs": [],
   "source": []
  },
  {
   "cell_type": "code",
   "execution_count": null,
   "id": "ac71921d",
   "metadata": {},
   "outputs": [],
   "source": []
  },
  {
   "cell_type": "code",
   "execution_count": null,
   "id": "159ad40d",
   "metadata": {},
   "outputs": [],
   "source": []
  },
  {
   "cell_type": "code",
   "execution_count": null,
   "id": "65f69b0f",
   "metadata": {},
   "outputs": [],
   "source": []
  }
 ],
 "metadata": {
  "kernelspec": {
   "display_name": "Python 3 (ipykernel)",
   "language": "python",
   "name": "python3"
  },
  "language_info": {
   "codemirror_mode": {
    "name": "ipython",
    "version": 3
   },
   "file_extension": ".py",
   "mimetype": "text/x-python",
   "name": "python",
   "nbconvert_exporter": "python",
   "pygments_lexer": "ipython3",
   "version": "3.10.9"
  }
 },
 "nbformat": 4,
 "nbformat_minor": 5
}
